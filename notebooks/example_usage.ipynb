{
 "cells": [
  {
   "cell_type": "code",
   "execution_count": 7,
   "id": "7f0d84c6",
   "metadata": {},
   "outputs": [
    {
     "data": {
      "text/plain": [
       "<tf.Tensor: shape=(1, 108), dtype=float32, numpy=\n",
       "array([[ 49000.,  48608.,  47432.,  87500.,  86800.,  84700.,  87500.,\n",
       "         86800.,  84700.,  87500.,  86800.,  84700.,  87500.,  86800.,\n",
       "         84700.,  49000.,  48608.,  47432.,  87500.,  86800.,  84700.,\n",
       "        156250., 155000., 151250., 153121., 151776., 144172., 151149.,\n",
       "        149726., 139622., 156250., 155000., 151250.,  87500.,  86800.,\n",
       "         84700.,  87500.,  86800.,  84700., 156250., 155000., 151250.,\n",
       "        153157., 151795., 144093., 152946., 151548., 143526., 156250.,\n",
       "        155000., 151250.,  87500.,  86800.,  84700.,  87500.,  86800.,\n",
       "         84700., 156191., 154940., 151128., 152218., 150773., 142952.,\n",
       "        152115., 150664., 142740., 156205., 154952., 151159.,  87500.,\n",
       "         86800.,  84700.,  87500.,  86800.,  84700., 155957., 154691.,\n",
       "        150646., 151941., 150480., 142418., 151635., 150170., 141784.,\n",
       "        155989., 154726., 150719.,  87500.,  86800.,  84700.,  49000.,\n",
       "         48608.,  47432.,  87500.,  86800.,  84700.,  87500.,  86800.,\n",
       "         84700.,  87503.,  86803.,  84707.,  87500.,  86800.,  84700.,\n",
       "         49000.,  48608.,  47432.]], dtype=float32)>"
      ]
     },
     "execution_count": 7,
     "metadata": {},
     "output_type": "execute_result"
    }
   ],
   "source": [
    "from conv_rgb.model import ConvRGB\n",
    "import numpy as np\n",
    "from PIL import Image\n",
    "\n",
    "model = ConvRGB(input_shape = (128, 128), n_cut = 5)\n",
    "\n",
    "img = Image.open('image.png').resize((128, 128))\n",
    "\n",
    "X = np.expand_dims(img, axis = 0)\n",
    "\n",
    "model(X)"
   ]
  },
  {
   "cell_type": "code",
   "execution_count": null,
   "id": "22f1f958",
   "metadata": {},
   "outputs": [],
   "source": []
  }
 ],
 "metadata": {
  "kernelspec": {
   "display_name": "Python 3.8.6 64-bit ('lewagon')",
   "language": "python",
   "name": "python3"
  },
  "language_info": {
   "codemirror_mode": {
    "name": "ipython",
    "version": 3
   },
   "file_extension": ".py",
   "mimetype": "text/x-python",
   "name": "python",
   "nbconvert_exporter": "python",
   "pygments_lexer": "ipython3",
   "version": "3.8.6"
  },
  "vscode": {
   "interpreter": {
    "hash": "e80cf3b251128dbe2c86c59fef2605d5a5f5a07ddcd7eac38ef92afdf6a41af1"
   }
  }
 },
 "nbformat": 4,
 "nbformat_minor": 5
}
